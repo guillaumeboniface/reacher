{
 "cells": [
  {
   "cell_type": "markdown",
   "metadata": {},
   "source": [
    "## Load the environment\n",
    "\n",
    "---"
   ]
  },
  {
   "cell_type": "code",
   "execution_count": 1,
   "metadata": {},
   "outputs": [],
   "source": [
    "from unityagents import UnityEnvironment\n",
    "import numpy as np\n",
    "from ppo_controller import PPOController\n",
    "from ddpg_controller import DDPGController\n",
    "from nstep_ddpg_controller import NStepDDPGController\n",
    "import matplotlib.pyplot as plt\n",
    "%matplotlib inline"
   ]
  },
  {
   "cell_type": "markdown",
   "metadata": {},
   "source": [
    "Next, we will start the environment!  **_Before running the code cell below_**, change the `file_name` parameter to match the location of the Unity environment that you downloaded.\n",
    "\n",
    "- **Mac**: `\"path/to/Reacher.app\"`\n",
    "- **Windows** (x86): `\"path/to/Reacher_Windows_x86/Reacher.exe\"`\n",
    "- **Windows** (x86_64): `\"path/to/Reacher_Windows_x86_64/Reacher.exe\"`\n",
    "- **Linux** (x86): `\"path/to/Reacher_Linux/Reacher.x86\"`\n",
    "- **Linux** (x86_64): `\"path/to/Reacher_Linux/Reacher.x86_64\"`\n",
    "- **Linux** (x86, headless): `\"path/to/Reacher_Linux_NoVis/Reacher.x86\"`\n",
    "- **Linux** (x86_64, headless): `\"path/to/Reacher_Linux_NoVis/Reacher.x86_64\"`\n",
    "\n",
    "For instance, if you are using a Mac, then you downloaded `Reacher.app`.  If this file is in the same folder as the notebook, then the line below should appear as follows:\n",
    "```\n",
    "env = UnityEnvironment(file_name=\"Reacher.app\")\n",
    "```"
   ]
  },
  {
   "cell_type": "code",
   "execution_count": 2,
   "metadata": {},
   "outputs": [
    {
     "name": "stderr",
     "output_type": "stream",
     "text": [
      "INFO:unityagents:\n",
      "'Academy' started successfully!\n",
      "Unity Academy name: Academy\n",
      "        Number of Brains: 1\n",
      "        Number of External Brains : 1\n",
      "        Lesson number : 0\n",
      "        Reset Parameters :\n",
      "\t\tgoal_speed -> 1.0\n",
      "\t\tgoal_size -> 5.0\n",
      "Unity brain name: ReacherBrain\n",
      "        Number of Visual Observations (per agent): 0\n",
      "        Vector Observation space type: continuous\n",
      "        Vector Observation space size (per agent): 33\n",
      "        Number of stacked Vector Observation: 1\n",
      "        Vector Action space type: continuous\n",
      "        Vector Action space size (per agent): 4\n",
      "        Vector Action descriptions: , , , \n"
     ]
    }
   ],
   "source": [
    "env = UnityEnvironment(file_name='../Reacher_20/Reacher.app')\n",
    "# get the default brain\n",
    "brain_name = env.brain_names[0]\n",
    "brain = env.brains[brain_name]"
   ]
  },
  {
   "cell_type": "code",
   "execution_count": 3,
   "metadata": {},
   "outputs": [],
   "source": [
    "def rolling_avg_scores(scores, window):\n",
    "    if len(scores) <= window:\n",
    "        return [np.mean(scores)]\n",
    "    else:\n",
    "        return [np.mean(scores[x:x+window]) for x in range(len(scores) - window + 1)]\n",
    "\n",
    "def plot_results(series, names):\n",
    "    for serie, name in zip(series, names):\n",
    "        plt.plot(np.arange(len(serie)), serie)\n",
    "        plt.plot(np.arange(19, len(serie)), rolling_avg_scores(serie, 20))\n",
    "        plt.ylabel(name)\n",
    "        plt.xlabel('Episode #')\n",
    "        plt.show()"
   ]
  },
  {
   "cell_type": "markdown",
   "metadata": {},
   "source": [
    "## PPO agent\n",
    "\n",
    "---"
   ]
  },
  {
   "cell_type": "code",
   "execution_count": null,
   "metadata": {},
   "outputs": [
    {
     "name": "stdout",
     "output_type": "stream",
     "text": [
      "Episode 1087/1200 | Average Score: 24.91 | Model surrogate: 0.42672   "
     ]
    }
   ],
   "source": [
    "class Config:\n",
    "    def __init__(self):\n",
    "        self.num_episodes = 1200\n",
    "        self.std = 0.5\n",
    "        self.epsilon_start = 0.1\n",
    "        self.epsilon_decay = 1\n",
    "        self.learning_rate = 5e-4\n",
    "        self.train_iterations = 4\n",
    "        self.gamma = 0.99\n",
    "        self.mlp_specs = (200, 150, 150)\n",
    "        self.update_every = 200\n",
    "        self.max_memory = 200\n",
    "        self.tau = 1e-3\n",
    "        \n",
    "    def as_dict(self):\n",
    "        return self.__dict__\n",
    "    \n",
    "\n",
    "controller = PPOController(env, brain_name, Config())\n",
    "ppo_scores, surrogates = controller.solve()\n",
    "plot_results(ppo_scores, surrogates)"
   ]
  },
  {
   "cell_type": "markdown",
   "metadata": {},
   "source": [
    "## DDPG agent\n",
    "\n",
    "---"
   ]
  },
  {
   "cell_type": "code",
   "execution_count": null,
   "metadata": {},
   "outputs": [],
   "source": [
    "class Config:\n",
    "    def __init__(self):\n",
    "        self.num_episodes = 100\n",
    "        self.batch_size = 64\n",
    "        self.learning_rate = 5e-4\n",
    "        self.gamma = 0.99\n",
    "        self.mlp_specs = (200, 150)\n",
    "        self.update_every = 4\n",
    "        self.max_memory = 1e5\n",
    "        self.tau = 1e-3\n",
    "        \n",
    "    def as_dict(self):\n",
    "        return self.__dict__\n",
    "    \n",
    "\n",
    "controller = DDPGController(env, brain_name, Config())\n",
    "ddpg_scores, surrogates, critic_losses = controller.solve()\n",
    "plot_results((ddpg_scores, surrogates, critic_losses), ('Score', 'Surrogate', 'Critic loss'))"
   ]
  },
  {
   "cell_type": "markdown",
   "metadata": {},
   "source": [
    "## DDPG agent with n_step\n",
    "\n",
    "---"
   ]
  },
  {
   "cell_type": "code",
   "execution_count": null,
   "metadata": {},
   "outputs": [],
   "source": [
    "class Config:\n",
    "    def __init__(self):\n",
    "        self.num_episodes = 50\n",
    "        self.batch_size = 64\n",
    "        self.n_step = 3\n",
    "        self.learning_rate = 5e-4\n",
    "        self.gamma = 0.99\n",
    "        self.mlp_specs = (200, 150)\n",
    "        self.update_every = 4\n",
    "        self.max_memory = 1e5\n",
    "        self.tau = 1e-3\n",
    "        \n",
    "    def as_dict(self):\n",
    "        return self.__dict__\n",
    "    \n",
    "\n",
    "controller = NStepDDPGController(env, brain_name, Config())\n",
    "nstep_ddpg_scores, surrogates, critic_losses = controller.solve()\n",
    "plot_results((nstep_ddpg_scores, surrogates, critic_losses), ('Score', 'Surrogate', 'Critic loss'))"
   ]
  },
  {
   "cell_type": "markdown",
   "metadata": {},
   "source": [
    "## Comparing results\n",
    "\n",
    "---"
   ]
  },
  {
   "cell_type": "code",
   "execution_count": null,
   "metadata": {},
   "outputs": [],
   "source": [
    "fig, ax = plt.subplots(figsize=(12,8))\n",
    "plt.plot(range(1200), ppo_scores, label='PPO')\n",
    "plt.plot(range(100), ddpg_scores, label='DDPG')\n",
    "plt.plot(range(100), nstep_ddpg_scores, label='N-step DDPG')\n",
    "plt.plot(1200, np.ones(1200) * 30, label='Win threshold')\n",
    "plt.ylabel('Score')\n",
    "plt.xlabel('Episode #')\n",
    "ax.legend()\n",
    "plt.show()"
   ]
  }
 ],
 "metadata": {
  "kernelspec": {
   "display_name": "drlnd",
   "language": "python",
   "name": "drlnd"
  },
  "language_info": {
   "codemirror_mode": {
    "name": "ipython",
    "version": 3
   },
   "file_extension": ".py",
   "mimetype": "text/x-python",
   "name": "python",
   "nbconvert_exporter": "python",
   "pygments_lexer": "ipython3",
   "version": "3.6.10"
  }
 },
 "nbformat": 4,
 "nbformat_minor": 4
}
